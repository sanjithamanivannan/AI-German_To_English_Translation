{
 "cells": [
  {
   "cell_type": "markdown",
   "metadata": {
    "id": "8cUx6bx_Wz_o"
   },
   "source": [
    "### **Introduction**"
   ]
  },
  {
   "cell_type": "markdown",
   "metadata": {
    "id": "bEdZsx4mXwPM"
   },
   "source": [
    "**Artificial Intelligence - Internship Project:**\n",
    "\n",
    "Language Translation (German to English)"
   ]
  },
  {
   "cell_type": "markdown",
   "metadata": {
    "id": "-e8YHcUqX4iG"
   },
   "source": [
    "**Problem Statement:**\n",
    "\n",
    "The objective of the project is to implement language\n",
    "translation model aka machine translation for converting\n",
    "German to English (and vice versa)"
   ]
  },
  {
   "cell_type": "markdown",
   "metadata": {
    "id": "BVbKwvF2YBfV"
   },
   "source": [
    "**Dataset Description:**\n",
    "\n",
    "For this project, the data is a text file (.txt) of English-German sentence\n",
    "pairs. The actual data contains over 150,000 sentence-pairs.\n",
    "However, only the first 50,000 sentence\n",
    "pairs will be used to reduce the training time of the model.\n"
   ]
  },
  {
   "cell_type": "markdown",
   "metadata": {
    "id": "FGL0dNfae1dL"
   },
   "source": [
    "### 1.Import the required libraries"
   ]
  },
  {
   "cell_type": "code",
   "execution_count": 1,
   "metadata": {
    "id": "AR1NuvlIHo4c"
   },
   "outputs": [],
   "source": [
    "import string\n",
    "import re\n",
    "from numpy import array, argmax, random, take\n",
    "import pandas as pd\n",
    "from keras.models import Sequential\n",
    "from keras.layers import Dense, LSTM, Embedding, Bidirectional, RepeatVector, TimeDistributed\n",
    "from keras.preprocessing.text import Tokenizer\n",
    "from keras.callbacks import ModelCheckpoint\n",
    "from keras.preprocessing.sequence import pad_sequences\n",
    "from keras.models import load_model\n",
    "from tensorflow.keras import optimizers\n",
    "import matplotlib.pyplot as plt\n",
    "%matplotlib inline\n",
    "pd.set_option('display.max_colwidth',200)"
   ]
  },
  {
   "cell_type": "markdown",
   "metadata": {
    "id": "-v3Hw8RhfVRm"
   },
   "source": [
    "### 2.Function to read the data file\n",
    "The data is a text file of English-German sentence pairs."
   ]
  },
  {
   "cell_type": "code",
   "execution_count": 2,
   "metadata": {
    "id": "B18XiFwwL8vT"
   },
   "outputs": [],
   "source": [
    "#function to read raw text file\n",
    "def read_text(filename):\n",
    "  file = open(filename,mode='rt',encoding='utf-8')\n",
    "  text = file.read()\n",
    "  file.close()\n",
    "  return text"
   ]
  },
  {
   "cell_type": "markdown",
   "metadata": {
    "id": "_5OjD8D0gbSO"
   },
   "source": [
    "### 3.Function to split the text\n",
    "The text data is split into English-German pairs separated by '\\n'.\n",
    "These pairs are then split into English and German sentences."
   ]
  },
  {
   "cell_type": "code",
   "execution_count": 3,
   "metadata": {
    "id": "kfizTMA2Mr1B"
   },
   "outputs": [],
   "source": [
    "#split the text into sentences\n",
    "def to_lines(text):\n",
    "  sent = text.strip().split('\\n')\n",
    "  sent = [i.split('\\t') for i in sent]\n",
    "  return sent"
   ]
  },
  {
   "cell_type": "markdown",
   "metadata": {
    "id": "2ZfSPfL2iGKA"
   },
   "source": [
    "### 4.Reading & preparing the data"
   ]
  },
  {
   "cell_type": "code",
   "execution_count": 4,
   "metadata": {
    "id": "DsNp49TcNFuq"
   },
   "outputs": [],
   "source": [
    "data = read_text(\"/content/Deu_dataset/deu.txt\")\n",
    "deu_eng = to_lines(data)\n",
    "deu_eng = array(deu_eng)"
   ]
  },
  {
   "cell_type": "code",
   "execution_count": 5,
   "metadata": {
    "colab": {
     "base_uri": "https://localhost:8080/"
    },
    "id": "CgcSQJYQVFG4",
    "outputId": "a92e064d-0e47-4002-c408-3974f740fea8"
   },
   "outputs": [
    {
     "name": "stdout",
     "output_type": "stream",
     "text": [
      "[['Go.' 'Geh.'\n",
      "  'CC-BY 2.0 (France) Attribution: tatoeba.org #2877272 (CM) & #8597805 (Roujin)']\n",
      " ['Hi.' 'Hallo!'\n",
      "  'CC-BY 2.0 (France) Attribution: tatoeba.org #538123 (CM) & #380701 (cburgmer)']\n",
      " ['Hi.' 'Grüß Gott!'\n",
      "  'CC-BY 2.0 (France) Attribution: tatoeba.org #538123 (CM) & #659813 (Esperantostern)']\n",
      " ...\n",
      " ['It may be impossible to get a completely error-free corpus due to the nature of this kind of collaborative effort. However, if we encourage members to contribute sentences in their own languages rather than experiment in languages they are learning, we might be able to minimize errors.'\n",
      "  'Es ist wohl unmöglich, einen vollkommen fehlerfreien Korpus zu erreichen\\xa0— das liegt in der Natur eines solchen Gemeinschaftsprojekts. Doch wenn wir unsere Mitglieder dazu bringen können, nicht mit Sprachen herumzuexperimentieren, die sie gerade lernen, sondern Sätze in ihrer eigenen Muttersprache beizutragen, dann gelingt es uns vielleicht, die Zahl der Fehler klein zu halten.'\n",
      "  'CC-BY 2.0 (France) Attribution: tatoeba.org #2024159 (CK) & #2174272 (Pfirsichbaeumchen)']\n",
      " [\"I know that adding sentences only in your native or strongest language is probably not as much fun as practicing writing foreign languages, but please don't add sentences to the Tatoeba Corpus if you are not absolutely sure they are correct. If you want to practice languages that you are studying, please do so by using a website designed for that purpose such as www.lang-8.com.\"\n",
      "  'Ich weiß wohl, dass das ausschließliche Beitragen von Sätzen in der Muttersprache\\xa0– oder der am besten beherrschten Sprache\\xa0– nicht ganz so viel Spaß macht, wie sich im Schreiben von Fremdsprachen zu üben; steuere beim Tatoeba-Korpus aber bitte trotzdem keine Sätze bei, über deren Korrektheit du dir nicht völlig im Klaren bist. Wenn du Sprachen, die du gerade lernst, üben möchtest, verwende dazu bitte Netzangebote, die eigens hierfür eingerichtet wurden, wie zum Beispiel www.lang-8.com.'\n",
      "  'CC-BY 2.0 (France) Attribution: tatoeba.org #3847634 (CM) & #4878147 (Pfirsichbaeumchen)']\n",
      " ['Doubtless there exists in this world precisely the right woman for any given man to marry and vice versa; but when you consider that a human being has the opportunity of being acquainted with only a few hundred people, and out of the few hundred that there are but a dozen or less whom he knows intimately, and out of the dozen, one or two friends at most, it will easily be seen, when we remember the number of millions who inhabit this world, that probably, since the earth was created, the right man has never yet met the right woman.'\n",
      "  'Ohne Zweifel findet sich auf dieser Welt zu jedem Mann genau die richtige Ehefrau und umgekehrt; wenn man jedoch in Betracht zieht, dass ein Mensch nur Gelegenheit hat, mit ein paar hundert anderen bekannt zu sein, von denen ihm nur ein Dutzend oder weniger nahesteht, darunter höchstens ein oder zwei Freunde, dann erahnt man eingedenk der Millionen Einwohner dieser Welt\\xa0leicht, dass seit Erschaffung ebenderselben wohl noch nie der richtige Mann der richtigen Frau begegnet ist.'\n",
      "  'CC-BY 2.0 (France) Attribution: tatoeba.org #7697649 (RM) & #7729416 (Pfirsichbaeumchen)']]\n"
     ]
    }
   ],
   "source": [
    "print(deu_eng)"
   ]
  },
  {
   "cell_type": "markdown",
   "metadata": {
    "id": "CnCp5dasjTtN"
   },
   "source": [
    "The actual data contains over 150,000 sentence pairs. But only the first 50,000 sentence pairs will be used in order to reduce the training time of the model."
   ]
  },
  {
   "cell_type": "code",
   "execution_count": 6,
   "metadata": {
    "id": "lveErSqkN-jO"
   },
   "outputs": [],
   "source": [
    "deu_eng = deu_eng[:50000,:]"
   ]
  },
  {
   "cell_type": "code",
   "execution_count": 7,
   "metadata": {
    "colab": {
     "base_uri": "https://localhost:8080/"
    },
    "id": "tK-_yGjhSFT0",
    "outputId": "b3caee60-9ac8-48b3-823c-5e3a24ea89c5"
   },
   "outputs": [
    {
     "data": {
      "text/plain": [
       "array([['Go.', 'Geh.',\n",
       "        'CC-BY 2.0 (France) Attribution: tatoeba.org #2877272 (CM) & #8597805 (Roujin)'],\n",
       "       ['Hi.', 'Hallo!',\n",
       "        'CC-BY 2.0 (France) Attribution: tatoeba.org #538123 (CM) & #380701 (cburgmer)'],\n",
       "       ['Hi.', 'Grüß Gott!',\n",
       "        'CC-BY 2.0 (France) Attribution: tatoeba.org #538123 (CM) & #659813 (Esperantostern)'],\n",
       "       ...,\n",
       "       ['Tom is still sitting.', 'Tom sitzt noch.',\n",
       "        'CC-BY 2.0 (France) Attribution: tatoeba.org #2273521 (CK) & #10190706 (wolfgangth)'],\n",
       "       ['Tom is still smoking.', 'Tom raucht immer noch.',\n",
       "        'CC-BY 2.0 (France) Attribution: tatoeba.org #2646953 (CK) & #8072723 (Luiaard)'],\n",
       "       ['Tom is still talking.', 'Tom spricht noch.',\n",
       "        'CC-BY 2.0 (France) Attribution: tatoeba.org #2646952 (CK) & #10150806 (wolfgangth)']],\n",
       "      dtype='<U537')"
      ]
     },
     "execution_count": 7,
     "metadata": {},
     "output_type": "execute_result"
    }
   ],
   "source": [
    "deu_eng"
   ]
  },
  {
   "cell_type": "markdown",
   "metadata": {
    "id": "vhuC9EPqlTPM"
   },
   "source": [
    "### 5.Text to Sequence Conversion\n",
    "The input and output sentences need to be converted into integer sequences of fixed length, so that it can be fed to Seq2Seq model. Two histograms are used to visualize the length of the sentences. The lengths of all the sentences are captured in two separate lists for English and German respectively."
   ]
  },
  {
   "cell_type": "code",
   "execution_count": 8,
   "metadata": {
    "id": "eBiud2vzSyzj"
   },
   "outputs": [],
   "source": [
    "#empty lists\n",
    "eng_l = []\n",
    "deu_l = []\n",
    "\n",
    "#populate the lists with sentence lengths\n",
    "for i in deu_eng[:,0]:\n",
    "  eng_l.append(len(i.split()))\n",
    "\n",
    "for i in deu_eng[:,1]:\n",
    "  deu_l.append(len(i.split()))"
   ]
  },
  {
   "cell_type": "code",
   "execution_count": 9,
   "metadata": {
    "id": "sCD1CvGIT6gc"
   },
   "outputs": [],
   "source": [
    "length_df = pd.DataFrame({'eng':eng_l, 'deu':deu_l})"
   ]
  },
  {
   "cell_type": "code",
   "execution_count": 10,
   "metadata": {
    "colab": {
     "base_uri": "https://localhost:8080/",
     "height": 281
    },
    "id": "-ZvcYkf2YHTa",
    "outputId": "d83dcdab-a010-412c-a17c-b50e03dad6f2"
   },
   "outputs": [
    {
     "data": {
      "image/png": "[encoded data removed]",
      "text/plain": [
       "<Figure size 432x288 with 2 Axes>"
      ]
     },
     "metadata": {
      "needs_background": "light"
     },
     "output_type": "display_data"
    }
   ],
   "source": [
    "length_df.hist(bins = 30)\n",
    "plt.show()"
   ]
  },
  {
   "cell_type": "markdown",
   "metadata": {
    "id": "YhF8ML7_DBBt"
   },
   "source": [
    "From the visualization, it can be seen that the maximum length of German sentences is 11 and that of English sentences is 8."
   ]
  },
  {
   "cell_type": "markdown",
   "metadata": {
    "id": "fVIf0XVbFM-f"
   },
   "source": [
    "#### 5.1.Function to vectorize the text data \n",
    "The text data is vectorized by using keras Tokenizer() class. This will turn the sentences into sequence of integers. Both the English and German sentences are vectorized."
   ]
  },
  {
   "cell_type": "code",
   "execution_count": 11,
   "metadata": {
    "id": "zxqAV6-CYWLo"
   },
   "outputs": [],
   "source": [
    "#function to build a tokenizer\n",
    "def tokenization(lines):\n",
    "  tokenizer = Tokenizer()\n",
    "  tokenizer.fit_on_texts(lines)\n",
    "  return tokenizer"
   ]
  },
  {
   "cell_type": "code",
   "execution_count": 12,
   "metadata": {
    "colab": {
     "base_uri": "https://localhost:8080/"
    },
    "id": "mEvhgF87ZIqS",
    "outputId": "9d0d262a-9aa6-44f2-91ad-0e650313357a"
   },
   "outputs": [
    {
     "name": "stdout",
     "output_type": "stream",
     "text": [
      "English Vocabulary Size: 6123\n"
     ]
    }
   ],
   "source": [
    "#prepare english tokenizer\n",
    "eng_tokenizer = tokenization(deu_eng[:,0])\n",
    "eng_vocab_size = len(eng_tokenizer.word_index) + 1\n",
    "eng_length = 8\n",
    "print('English Vocabulary Size: %d' % eng_vocab_size)"
   ]
  },
  {
   "cell_type": "code",
   "execution_count": 13,
   "metadata": {
    "colab": {
     "base_uri": "https://localhost:8080/"
    },
    "id": "e-LLmz4aaJgV",
    "outputId": "864dd0cb-cbd0-49db-fbf3-d6ca31ffcbcf"
   },
   "outputs": [
    {
     "name": "stdout",
     "output_type": "stream",
     "text": [
      "Deutch Vocabulary Size: 10087\n"
     ]
    }
   ],
   "source": [
    "#prepare deutch tokenizer\n",
    "deu_tokenizer = tokenization(deu_eng[:,1])\n",
    "deu_vocab_size = len(deu_tokenizer.word_index) + 1\n",
    "deu_length = 8\n",
    "print('Deutch Vocabulary Size: %d' % deu_vocab_size)"
   ]
  },
  {
   "cell_type": "markdown",
   "metadata": {
    "id": "HO0lEHu1G9cp"
   },
   "source": [
    "#### 5.2.Function to pad the sequences\n",
    "The vectorized sequences will be padded with zeroes upto the maximum sequence length so that all the sequences are of the same length."
   ]
  },
  {
   "cell_type": "code",
   "execution_count": 14,
   "metadata": {
    "id": "rufLrFJMa8lR"
   },
   "outputs": [],
   "source": [
    "#encode and pad sequences\n",
    "def encode_sequences(tokenizer, length, lines):\n",
    "  seq = tokenizer.texts_to_sequences(lines)\n",
    "  seq = pad_sequences(seq, maxlen = length, padding = 'post')\n",
    "  return seq"
   ]
  },
  {
   "cell_type": "markdown",
   "metadata": {
    "id": "xkswoe0ooN2Y"
   },
   "source": [
    "### 6.Building the model\n",
    "The data is split into traininig and testing set for model training and evaluation."
   ]
  },
  {
   "cell_type": "code",
   "execution_count": 15,
   "metadata": {
    "id": "qTcPTDNLoGKg"
   },
   "outputs": [],
   "source": [
    "from sklearn.model_selection import train_test_split\n",
    "train, test = train_test_split(deu_eng, test_size = 0.2, random_state = 12)"
   ]
  },
  {
   "cell_type": "markdown",
   "metadata": {
    "id": "K9zaj19BM_4L"
   },
   "source": [
    "#### 6.1.Encoding the sentences\n",
    "The German sentences are encoded as the input and English sentences as the target sequences."
   ]
  },
  {
   "cell_type": "code",
   "execution_count": 16,
   "metadata": {
    "id": "z093J0H-omgL"
   },
   "outputs": [],
   "source": [
    "#prepare training data\n",
    "train_x = encode_sequences(deu_tokenizer, deu_length, train[:,1])\n",
    "train_y = encode_sequences(eng_tokenizer, eng_length, train[:,0])"
   ]
  },
  {
   "cell_type": "code",
   "execution_count": 17,
   "metadata": {
    "id": "xEOymIWNpTFu"
   },
   "outputs": [],
   "source": [
    "#prepare validation data\n",
    "test_x = encode_sequences(deu_tokenizer, deu_length, test[:,1])\n",
    "test_y = encode_sequences(eng_tokenizer, eng_length, test[:,0])"
   ]
  },
  {
   "cell_type": "markdown",
   "metadata": {
    "id": "qxBT50ttN3OI"
   },
   "source": [
    "#### 6.2.Seq2Seq Model\n",
    "An Embedding layer and an LSTM layer are used as the encoder and another LSTM layer followed by a Dense layer are used as the decoder."
   ]
  },
  {
   "cell_type": "code",
   "execution_count": 18,
   "metadata": {
    "id": "Hpt4Zy1SpsPT"
   },
   "outputs": [],
   "source": [
    "#build NMT model\n",
    "def build_model(in_vocab, out_vocab, in_timesteps, out_timesteps, units):\n",
    "  model = Sequential()\n",
    "  model.add(Embedding(in_vocab, units, input_length= in_timesteps, mask_zero = True))\n",
    "  model.add(LSTM(units))\n",
    "  model.add(RepeatVector(out_timesteps))\n",
    "  model.add(LSTM(units, return_sequences= True))\n",
    "  model.add(Dense(out_vocab, activation = 'softmax'))\n",
    "  return model"
   ]
  },
  {
   "cell_type": "markdown",
   "metadata": {
    "id": "wrNZExD8PyNv"
   },
   "source": [
    "RMSprop optimizer is used in this model as it is considered a good choice for Recurrent Neural Networks."
   ]
  },
  {
   "cell_type": "code",
   "execution_count": 19,
   "metadata": {
    "id": "iJ7raR6Yq9zm"
   },
   "outputs": [],
   "source": [
    "model = build_model(deu_vocab_size, eng_vocab_size, deu_length, eng_length, 512)\n",
    "rms = optimizers.RMSprop(learning_rate=0.001)\n",
    "model.compile(optimizer = rms, loss = 'sparse_categorical_crossentropy')"
   ]
  },
  {
   "cell_type": "markdown",
   "metadata": {
    "id": "1bHBh6R8QK9Z"
   },
   "source": [
    "### 7.Training the model\n",
    "The model will be trained for 5 epochs and with a batch size of 512. The ModelCheckpoint() function is used to save the best model with lowest validation loss."
   ]
  },
  {
   "cell_type": "code",
   "execution_count": 20,
   "metadata": {
    "colab": {
     "base_uri": "https://localhost:8080/"
    },
    "id": "SYOJEYmirqQS",
    "outputId": "402e8a74-1605-40d9-af3d-108d5f4cefa5"
   },
   "outputs": [
    {
     "name": "stdout",
     "output_type": "stream",
     "text": [
      "Epoch 1/5\n",
      "63/63 [==============================] - ETA: 0s - loss: 3.3290\n",
      "Epoch 00001: val_loss improved from inf to 2.97135, saving model to model1\n"
     ]
    },
    {
     "name": "stderr",
     "output_type": "stream",
     "text": [
      "WARNING:absl:Found untraced functions such as lstm_cell_layer_call_fn, lstm_cell_layer_call_and_return_conditional_losses, lstm_cell_1_layer_call_fn, lstm_cell_1_layer_call_and_return_conditional_losses, lstm_cell_layer_call_fn while saving (showing 5 of 10). These functions will not be directly callable after loading.\n"
     ]
    },
    {
     "name": "stdout",
     "output_type": "stream",
     "text": [
      "INFO:tensorflow:Assets written to: model1/assets\n"
     ]
    },
    {
     "name": "stderr",
     "output_type": "stream",
     "text": [
      "INFO:tensorflow:Assets written to: model1/assets\n",
      "WARNING:absl:<keras.layers.recurrent.LSTMCell object at 0x7f3f99b17e90> has the same name 'LSTMCell' as a built-in Keras object. Consider renaming <class 'keras.layers.recurrent.LSTMCell'> to avoid naming conflicts when loading with `tf.keras.models.load_model`. If renaming is not possible, pass the object in the `custom_objects` parameter of the load function.\n",
      "WARNING:absl:<keras.layers.recurrent.LSTMCell object at 0x7f3f9f188810> has the same name 'LSTMCell' as a built-in Keras object. Consider renaming <class 'keras.layers.recurrent.LSTMCell'> to avoid naming conflicts when loading with `tf.keras.models.load_model`. If renaming is not possible, pass the object in the `custom_objects` parameter of the load function.\n"
     ]
    },
    {
     "name": "stdout",
     "output_type": "stream",
     "text": [
      "\b\b\b\b\b\b\b\b\b\b\b\b\b\b\b\b\b\b\b\b\b\b\b\b\b\b\b\b\b\b\b\b\b\b\b\b\b\b\b\b\b\b\b\b\b\b\b\b\b\b\b\b\b\b\b\b\b\b\b\b\b\b\b\r",
      "63/63 [==============================] - 276s 4s/step - loss: 3.3290 - val_loss: 2.9713\n",
      "Epoch 2/5\n",
      "63/63 [==============================] - ETA: 0s - loss: 2.6989\n",
      "Epoch 00002: val_loss improved from 2.97135 to 2.67198, saving model to model1\n"
     ]
    },
    {
     "name": "stderr",
     "output_type": "stream",
     "text": [
      "WARNING:absl:Found untraced functions such as lstm_cell_layer_call_fn, lstm_cell_layer_call_and_return_conditional_losses, lstm_cell_1_layer_call_fn, lstm_cell_1_layer_call_and_return_conditional_losses, lstm_cell_layer_call_fn while saving (showing 5 of 10). These functions will not be directly callable after loading.\n"
     ]
    },
    {
     "name": "stdout",
     "output_type": "stream",
     "text": [
      "INFO:tensorflow:Assets written to: model1/assets\n"
     ]
    },
    {
     "name": "stderr",
     "output_type": "stream",
     "text": [
      "INFO:tensorflow:Assets written to: model1/assets\n",
      "WARNING:absl:<keras.layers.recurrent.LSTMCell object at 0x7f3f99b17e90> has the same name 'LSTMCell' as a built-in Keras object. Consider renaming <class 'keras.layers.recurrent.LSTMCell'> to avoid naming conflicts when loading with `tf.keras.models.load_model`. If renaming is not possible, pass the object in the `custom_objects` parameter of the load function.\n",
      "WARNING:absl:<keras.layers.recurrent.LSTMCell object at 0x7f3f9f188810> has the same name 'LSTMCell' as a built-in Keras object. Consider renaming <class 'keras.layers.recurrent.LSTMCell'> to avoid naming conflicts when loading with `tf.keras.models.load_model`. If renaming is not possible, pass the object in the `custom_objects` parameter of the load function.\n"
     ]
    },
    {
     "name": "stdout",
     "output_type": "stream",
     "text": [
      "\b\b\b\b\b\b\b\b\b\b\b\b\b\b\b\b\b\b\b\b\b\b\b\b\b\b\b\b\b\b\b\b\b\b\b\b\b\b\b\b\b\b\b\b\b\b\b\b\b\b\b\b\b\b\b\b\b\b\b\b\b\b\b\r",
      "63/63 [==============================] - 263s 4s/step - loss: 2.6989 - val_loss: 2.6720\n",
      "Epoch 3/5\n",
      "63/63 [==============================] - ETA: 0s - loss: 2.5272\n",
      "Epoch 00003: val_loss improved from 2.67198 to 2.48210, saving model to model1\n"
     ]
    },
    {
     "name": "stderr",
     "output_type": "stream",
     "text": [
      "WARNING:absl:Found untraced functions such as lstm_cell_layer_call_fn, lstm_cell_layer_call_and_return_conditional_losses, lstm_cell_1_layer_call_fn, lstm_cell_1_layer_call_and_return_conditional_losses, lstm_cell_layer_call_fn while saving (showing 5 of 10). These functions will not be directly callable after loading.\n"
     ]
    },
    {
     "name": "stdout",
     "output_type": "stream",
     "text": [
      "INFO:tensorflow:Assets written to: model1/assets\n"
     ]
    },
    {
     "name": "stderr",
     "output_type": "stream",
     "text": [
      "INFO:tensorflow:Assets written to: model1/assets\n",
      "WARNING:absl:<keras.layers.recurrent.LSTMCell object at 0x7f3f99b17e90> has the same name 'LSTMCell' as a built-in Keras object. Consider renaming <class 'keras.layers.recurrent.LSTMCell'> to avoid naming conflicts when loading with `tf.keras.models.load_model`. If renaming is not possible, pass the object in the `custom_objects` parameter of the load function.\n",
      "WARNING:absl:<keras.layers.recurrent.LSTMCell object at 0x7f3f9f188810> has the same name 'LSTMCell' as a built-in Keras object. Consider renaming <class 'keras.layers.recurrent.LSTMCell'> to avoid naming conflicts when loading with `tf.keras.models.load_model`. If renaming is not possible, pass the object in the `custom_objects` parameter of the load function.\n"
     ]
    },
    {
     "name": "stdout",
     "output_type": "stream",
     "text": [
      "\b\b\b\b\b\b\b\b\b\b\b\b\b\b\b\b\b\b\b\b\b\b\b\b\b\b\b\b\b\b\b\b\b\b\b\b\b\b\b\b\b\b\b\b\b\b\b\b\b\b\b\b\b\b\b\b\b\b\b\b\b\b\b\r",
      "63/63 [==============================] - 266s 4s/step - loss: 2.5272 - val_loss: 2.4821\n",
      "Epoch 4/5\n",
      "63/63 [==============================] - ETA: 0s - loss: 2.3642\n",
      "Epoch 00004: val_loss improved from 2.48210 to 2.35725, saving model to model1\n"
     ]
    },
    {
     "name": "stderr",
     "output_type": "stream",
     "text": [
      "WARNING:absl:Found untraced functions such as lstm_cell_layer_call_fn, lstm_cell_layer_call_and_return_conditional_losses, lstm_cell_1_layer_call_fn, lstm_cell_1_layer_call_and_return_conditional_losses, lstm_cell_layer_call_fn while saving (showing 5 of 10). These functions will not be directly callable after loading.\n"
     ]
    },
    {
     "name": "stdout",
     "output_type": "stream",
     "text": [
      "INFO:tensorflow:Assets written to: model1/assets\n"
     ]
    },
    {
     "name": "stderr",
     "output_type": "stream",
     "text": [
      "INFO:tensorflow:Assets written to: model1/assets\n",
      "WARNING:absl:<keras.layers.recurrent.LSTMCell object at 0x7f3f99b17e90> has the same name 'LSTMCell' as a built-in Keras object. Consider renaming <class 'keras.layers.recurrent.LSTMCell'> to avoid naming conflicts when loading with `tf.keras.models.load_model`. If renaming is not possible, pass the object in the `custom_objects` parameter of the load function.\n",
      "WARNING:absl:<keras.layers.recurrent.LSTMCell object at 0x7f3f9f188810> has the same name 'LSTMCell' as a built-in Keras object. Consider renaming <class 'keras.layers.recurrent.LSTMCell'> to avoid naming conflicts when loading with `tf.keras.models.load_model`. If renaming is not possible, pass the object in the `custom_objects` parameter of the load function.\n"
     ]
    },
    {
     "name": "stdout",
     "output_type": "stream",
     "text": [
      "\b\b\b\b\b\b\b\b\b\b\b\b\b\b\b\b\b\b\b\b\b\b\b\b\b\b\b\b\b\b\b\b\b\b\b\b\b\b\b\b\b\b\b\b\b\b\b\b\b\b\b\b\b\b\b\b\b\b\b\b\b\b\b\r",
      "63/63 [==============================] - 262s 4s/step - loss: 2.3642 - val_loss: 2.3572\n",
      "Epoch 5/5\n",
      "63/63 [==============================] - ETA: 0s - loss: 2.2129\n",
      "Epoch 00005: val_loss improved from 2.35725 to 2.24480, saving model to model1\n"
     ]
    },
    {
     "name": "stderr",
     "output_type": "stream",
     "text": [
      "WARNING:absl:Found untraced functions such as lstm_cell_layer_call_fn, lstm_cell_layer_call_and_return_conditional_losses, lstm_cell_1_layer_call_fn, lstm_cell_1_layer_call_and_return_conditional_losses, lstm_cell_layer_call_fn while saving (showing 5 of 10). These functions will not be directly callable after loading.\n"
     ]
    },
    {
     "name": "stdout",
     "output_type": "stream",
     "text": [
      "INFO:tensorflow:Assets written to: model1/assets\n"
     ]
    },
    {
     "name": "stderr",
     "output_type": "stream",
     "text": [
      "INFO:tensorflow:Assets written to: model1/assets\n",
      "WARNING:absl:<keras.layers.recurrent.LSTMCell object at 0x7f3f99b17e90> has the same name 'LSTMCell' as a built-in Keras object. Consider renaming <class 'keras.layers.recurrent.LSTMCell'> to avoid naming conflicts when loading with `tf.keras.models.load_model`. If renaming is not possible, pass the object in the `custom_objects` parameter of the load function.\n",
      "WARNING:absl:<keras.layers.recurrent.LSTMCell object at 0x7f3f9f188810> has the same name 'LSTMCell' as a built-in Keras object. Consider renaming <class 'keras.layers.recurrent.LSTMCell'> to avoid naming conflicts when loading with `tf.keras.models.load_model`. If renaming is not possible, pass the object in the `custom_objects` parameter of the load function.\n"
     ]
    },
    {
     "name": "stdout",
     "output_type": "stream",
     "text": [
      "\b\b\b\b\b\b\b\b\b\b\b\b\b\b\b\b\b\b\b\b\b\b\b\b\b\b\b\b\b\b\b\b\b\b\b\b\b\b\b\b\b\b\b\b\b\b\b\b\b\b\b\b\b\b\b\b\b\b\b\b\b\b\b\r",
      "63/63 [==============================] - 264s 4s/step - loss: 2.2129 - val_loss: 2.2448\n"
     ]
    }
   ],
   "source": [
    "filename = 'model1'\n",
    "checkpoint = ModelCheckpoint(filename, monitor = 'val_loss', verbose=1, save_best_only = True, mode='min')\n",
    "history = model.fit(train_x, train_y.reshape(train_y.shape[0], train_y.shape[1], 1),\n",
    "                    epochs=5, batch_size =512, \n",
    "                    validation_split=0.2, \n",
    "                    callbacks = [checkpoint], verbose=1)"
   ]
  },
  {
   "cell_type": "markdown",
   "metadata": {
    "id": "Hy_bTkhwRjKw"
   },
   "source": [
    "Comparison of the training loss and validation loss using a visualization."
   ]
  },
  {
   "cell_type": "code",
   "execution_count": 21,
   "metadata": {
    "colab": {
     "base_uri": "https://localhost:8080/",
     "height": 265
    },
    "id": "E8ITWrjTubPv",
    "outputId": "0a5fcb6e-9942-4687-eac2-cd1c8b821737"
   },
   "outputs": [
    {
     "data": {
      "image/png": "[encoded data removed]",
      "text/plain": [
       "<Figure size 432x288 with 1 Axes>"
      ]
     },
     "metadata": {
      "needs_background": "light"
     },
     "output_type": "display_data"
    }
   ],
   "source": [
    "plt.plot(history.history['loss'])\n",
    "plt.plot(history.history['val_loss'])\n",
    "plt.legend(['train','validation'])\n",
    "plt.show()"
   ]
  },
  {
   "cell_type": "markdown",
   "metadata": {
    "id": "pcBXlpYqSXT8"
   },
   "source": [
    "### 8.Testing the model"
   ]
  },
  {
   "cell_type": "code",
   "execution_count": 22,
   "metadata": {
    "id": "VBW7w8mxwSES"
   },
   "outputs": [],
   "source": [
    "model = load_model('model1')\n",
    "pred = model.predict(test_x.reshape((test_x.shape[0],test_x.shape[1])))"
   ]
  },
  {
   "cell_type": "code",
   "execution_count": 23,
   "metadata": {
    "id": "rEq9ky4FTYqh"
   },
   "outputs": [],
   "source": [
    "pred = argmax(pred,axis=1)"
   ]
  },
  {
   "cell_type": "code",
   "execution_count": 24,
   "metadata": {
    "colab": {
     "base_uri": "https://localhost:8080/"
    },
    "id": "eZtdhRpEonxY",
    "outputId": "585eceeb-1dbb-4137-b391-43e1e6aa8a2e"
   },
   "outputs": [
    {
     "data": {
      "text/plain": [
       "array([[7, 0, 0, ..., 2, 2, 2],\n",
       "       [7, 0, 0, ..., 2, 2, 2],\n",
       "       [7, 0, 0, ..., 2, 2, 2],\n",
       "       ...,\n",
       "       [7, 2, 0, ..., 0, 0, 0],\n",
       "       [7, 2, 0, ..., 1, 2, 2],\n",
       "       [7, 2, 0, ..., 2, 3, 3]])"
      ]
     },
     "execution_count": 24,
     "metadata": {},
     "output_type": "execute_result"
    }
   ],
   "source": [
    "pred"
   ]
  },
  {
   "cell_type": "code",
   "execution_count": 25,
   "metadata": {
    "id": "jKebdHA7xP82"
   },
   "outputs": [],
   "source": [
    "def get_word(n, tokenizer):\n",
    "  for word, index in tokenizer.word_index.items():\n",
    "    if index == n:\n",
    "      return word\n",
    "  return None"
   ]
  },
  {
   "cell_type": "code",
   "execution_count": null,
   "metadata": {
    "id": "79cHJYvvx8Fc"
   },
   "outputs": [],
   "source": [
    "#convert predictions into text in English\n",
    "pred_text = []\n",
    "for i in pred:\n",
    "  temp = []\n",
    "  for j in range(len(i)):\n",
    "    t = get_word(i[j], eng_tokenizer)\n",
    "    if j>0:\n",
    "      if(t == get_word(i[j-1], eng_tokenizer)) or (t == None):\n",
    "        temp.append('')\n",
    "      else:\n",
    "        temp.append(t)\n",
    "    else:\n",
    "      if(t == None):\n",
    "        temp.append('')\n",
    "      else:\n",
    "        temp.append(t)\n",
    "pred_text.append(''.join(temp))"
   ]
  },
  {
   "cell_type": "code",
   "execution_count": null,
   "metadata": {
    "id": "yK9l6hH7G1dZ"
   },
   "outputs": [],
   "source": [
    "pred_df = pd.DataFrame({'actual':test[:,0],'predicted':pred_text})"
   ]
  },
  {
   "cell_type": "code",
   "execution_count": null,
   "metadata": {
    "id": "qd4mWokrQxoO"
   },
   "outputs": [],
   "source": [
    "pd.set_option('display.max_colwidth',200)"
   ]
  },
  {
   "cell_type": "code",
   "execution_count": null,
   "metadata": {
    "id": "nFex8-6LRL9D"
   },
   "outputs": [],
   "source": [
    "pred_df.head(15)"
   ]
  },
  {
   "cell_type": "code",
   "execution_count": null,
   "metadata": {
    "id": "eFxx8UNdRXwy"
   },
   "outputs": [],
   "source": [
    "pred_df.tail(15)"
   ]
  }
 ],
 "metadata": {
  "colab": {
   "collapsed_sections": [],
   "name": "AI-Language_Translation.ipynb",
   "provenance": [],
   "toc_visible": true
  },
  "kernelspec": {
   "display_name": "Python 3",
   "language": "python",
   "name": "python3"
  },
  "language_info": {
   "codemirror_mode": {
    "name": "ipython",
    "version": 3
   },
   "file_extension": ".py",
   "mimetype": "text/x-python",
   "name": "python",
   "nbconvert_exporter": "python",
   "pygments_lexer": "ipython3",
   "version": "3.8.5"
  }
 },
 "nbformat": 4,
 "nbformat_minor": 1
}
